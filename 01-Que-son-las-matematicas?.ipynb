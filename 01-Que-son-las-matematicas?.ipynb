# Que son las matematicas?
## Las matematicas son una ciencia exacta que usa metodos inductivos para comprobar teorias e hipotesis y metodos deductivos para comprobarlas, estas se dividen en
