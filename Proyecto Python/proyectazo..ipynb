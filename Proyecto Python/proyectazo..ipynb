{
 "cells": [
  {
   "cell_type": "markdown",
   "id": "683d3ee9",
   "metadata": {},
   "source": [
    "# Manejo estrategico de los datos de Global-Tech Retai\n",
    "Este proyecto busca aprovechar los datos recolectados por Global-Tech Retail como base para un análisis profundo, con el objetivo de generar recomendaciones estratégicas para la empresa.\n",
    "\n",
    "Creado por: Edgar Yesid Rentería Rojas  \n",
    "Julio 2024"
   ]
  },
  {
   "cell_type": "markdown",
   "id": "1e3aa790",
   "metadata": {},
   "source": [
    "# Importamos librerias"
   ]
  },
  {
   "cell_type": "code",
   "execution_count": null,
   "id": "f5295bf5",
   "metadata": {},
   "outputs": [],
   "source": [
    "#*! RECUERDEN instalarlos poninendo pip install nombre_del_paquete en la terminal de vscode\n",
    "import pandas as pd\n",
    "import numpy as np\n",
    "import pandas as pd\n",
    "import sqlite3\n",
    "#import seaborn as sn  #*!este no lo vamos a usar por ahora\n",
    "#import matplotlib.pyplot as plt"
   ]
  },
  {
   "cell_type": "markdown",
   "id": "654eaf6d",
   "metadata": {},
   "source": [
    "## Conexion con base de datos y creacion de DF"
   ]
  },
  {
   "cell_type": "code",
   "execution_count": null,
   "id": "219f8c30",
   "metadata": {},
   "outputs": [],
   "source": [
    "# Conectarse al archivo .db\n",
    "conexion = sqlite3.connect('C:\\\\Users\\\\edgar\\\\OneDrive - Universidad Nacional de Colombia\\\\Analisis de factos\\\\My-local-learning-path\\\\My-learning-path\\\\Proyecto Python\\\\Documentos\\\\clientes.db')\n",
    "\n",
    "# Consultar las tabla\n",
    "consultar = 'SELECT * from sqlite_master'\n",
    "\n",
    "print(\"🗂️ Consulta de sqlite_master:\", pd.read_sql_query(consultar, conexion),'\\f \\f')\n",
    "\n",
    "# Leer y asignar una tabla específica\n",
    "clientes_df = pd.read_sql_query(\"SELECT * FROM clientes;\", conexion)\n",
    "\n",
    "#? ahora ponemos usar comandos de pandas para manipular data como:\n",
    "#? \n",
    "conexion.close()\n",
    "\n",
    "#! LEEMOS LOS CSV QUE NECESITAMOS PARA EL PROYECTO\n",
    "productos_df = pd.read_csv('C:\\\\Users\\\\edgar\\\\OneDrive - Universidad Nacional de Colombia\\\\Analisis de factos\\\\My-local-learning-path\\\\My-learning-path\\\\Proyecto Python\\\\Documentos\\\\productos.csv')\n",
    "\n",
    "ventas_df = pd.read_csv('C:\\\\Users\\\\edgar\\\\OneDrive - Universidad Nacional de Colombia\\\\Analisis de factos\\\\My-local-learning-path\\\\My-learning-path\\\\Proyecto Python\\\\Documentos\\\\ventas.csv')\n"
   ]
  },
  {
   "cell_type": "markdown",
   "id": "40fb10ff",
   "metadata": {},
   "source": [
    "## visualizacion basica"
   ]
  },
  {
   "cell_type": "code",
   "execution_count": 23,
   "id": "d57b0196",
   "metadata": {},
   "outputs": [
    {
     "name": "stdout",
     "output_type": "stream",
     "text": [
      "\n",
      "📦 DATOS DE PRODUCTOS\n",
      "\n",
      "🔹 Cabecera y primeros 10 registros:\n",
      "\n",
      "   ID_Producto        Nombre_Producto Categoria  Costo_Unitario\n",
      "0          101    Laptop ProBook G9     Laptops          911.54\n",
      "1          102    Laptop ThinkPad T14   Laptops          989.18\n",
      "2          103        MacBook Pro 14\"   Laptops             NaN\n",
      "3          104            Dell XPS 13   Laptops          559.07\n",
      "4          105      Asus ZenBook 14     Laptops         1047.54\n",
      "5          106         Lenovo IdeaPad   Laptops          672.20\n",
      "6          107            HP Pavilion   Laptops          477.37\n",
      "7          108          Acer Aspire 5   Laptops          828.98\n",
      "8          109       Surface Laptop 4   Laptops          894.82\n",
      "9          110         MSI Creator 15   Laptops          582.32 \n",
      "\n",
      "🔹 Resumen estadístico de productos:\n",
      "\n",
      "        ID_Producto  Nombre_Producto Categoria  Costo_Unitario\n",
      "count     71.000000               71        71       66.000000\n",
      "unique          NaN               63         6             NaN\n",
      "top             NaN  MacBook Pro 14\"   Laptops             NaN\n",
      "freq            NaN                2        14             NaN\n",
      "mean     132.380282              NaN       NaN      376.032727\n",
      "std       18.865211              NaN       NaN      259.069787\n",
      "min      101.000000              NaN       NaN       24.790000\n",
      "25%      116.500000              NaN       NaN      192.517500\n",
      "50%      132.000000              NaN       NaN      296.340000\n",
      "75%      149.500000              NaN       NaN      546.605000\n",
      "max      163.000000              NaN       NaN     1047.540000 \n",
      "\n",
      "🔹 Información del DataFrame productos:\n",
      "\n",
      "<class 'pandas.core.frame.DataFrame'>\n",
      "RangeIndex: 71 entries, 0 to 70\n",
      "Data columns (total 4 columns):\n",
      " #   Column           Non-Null Count  Dtype  \n",
      "---  ------           --------------  -----  \n",
      " 0   ID_Producto      71 non-null     int64  \n",
      " 1   Nombre_Producto  71 non-null     object \n",
      " 2   Categoria        71 non-null     object \n",
      " 3   Costo_Unitario   66 non-null     float64\n",
      "dtypes: float64(1), int64(1), object(2)\n",
      "memory usage: 2.3+ KB\n",
      "\n",
      "\n"
     ]
    }
   ],
   "source": [
    "print(\"\\n📦 DATOS DE PRODUCTOS\\n\")\n",
    "\n",
    "# 🧭 Muestra la cabecera y los primeros 10 datos del DataFrame\n",
    "print(\"🔹 Cabecera y primeros 10 registros:\\n\")\n",
    "print(productos_df.head(10), \"\\n\")\n",
    "\n",
    "# 📊 Muestra un resumen estadístico del DataFrame\n",
    "print(\"🔹 Resumen estadístico de productos:\\n\")\n",
    "print(productos_df.describe(include='all'), \"\\n\")\n",
    "\n",
    "# ℹ️ Muestra información general del DataFrame\n",
    "print(\"🔹 Información del DataFrame productos:\\n\")\n",
    "productos_df.info()\n",
    "print(\"\\n\")"
   ]
  },
  {
   "cell_type": "markdown",
   "id": "830a6173",
   "metadata": {},
   "source": [
    "## 📦 Conclusiones de Productos\n",
    "\n",
    "Tras explorar el dataframe de productos, podemos concluir lo siguiente:\n",
    "\n",
    "- 🔢 Se manejan **71 productos distintos**.\n",
    "- 💻 El producto que más se vendió fue el **MacBook Pro 14\"**.\n",
    "- 🏷️ La categoría más vendida fue **Laptop**."
   ]
  },
  {
   "cell_type": "code",
   "execution_count": 22,
   "id": "5521ebc0",
   "metadata": {},
   "outputs": [
    {
     "name": "stdout",
     "output_type": "stream",
     "text": [
      "\n",
      "🗂️ DATOS DE CLIENTES\n",
      "\n",
      "🔹 Cabecera y primeros 5 Datos de clientes:\n",
      "\n",
      "   ID_Cliente       Ciudad       Pais Fuente_Marketing\n",
      "0           1     Chiclayo       Peru    Telemarketing\n",
      "1           2    Rosario    Argentina  Email Marketing\n",
      "2           3     La Plata  Argentina  Email Marketing\n",
      "3           4     Rancagua      Chile         Referido\n",
      "4           5      Durán      Ecuador          YouTube \n",
      "\n",
      "🔹 Resumen estadístico de productos:\n",
      "\n",
      "        ID_Cliente    Ciudad    Pais Fuente_Marketing\n",
      "count    825.00000       825     811              805\n",
      "unique         NaN       128      16               23\n",
      "top            NaN  Valencia  Mexico      Influencers\n",
      "freq           NaN        22     124               75\n",
      "mean     413.00000       NaN     NaN              NaN\n",
      "std      238.30128       NaN     NaN              NaN\n",
      "min        1.00000       NaN     NaN              NaN\n",
      "25%      207.00000       NaN     NaN              NaN\n",
      "50%      413.00000       NaN     NaN              NaN\n",
      "75%      619.00000       NaN     NaN              NaN\n",
      "max      825.00000       NaN     NaN              NaN \n",
      "\n",
      "🔹 Información del DataFrame productos:\n",
      "\n",
      "<class 'pandas.core.frame.DataFrame'>\n",
      "RangeIndex: 825 entries, 0 to 824\n",
      "Data columns (total 4 columns):\n",
      " #   Column            Non-Null Count  Dtype \n",
      "---  ------            --------------  ----- \n",
      " 0   ID_Cliente        825 non-null    int64 \n",
      " 1   Ciudad            825 non-null    object\n",
      " 2   Pais              811 non-null    object\n",
      " 3   Fuente_Marketing  805 non-null    object\n",
      "dtypes: int64(1), object(3)\n",
      "memory usage: 25.9+ KB\n",
      "\n",
      "\n",
      " Primeros 20 Datos de clientes:     ID_Cliente          Ciudad       Pais   Fuente_Marketing\n",
      "0            1        Chiclayo       Peru      Telemarketing\n",
      "1            2       Rosario    Argentina    Email Marketing\n",
      "2            3        La Plata  Argentina    Email Marketing\n",
      "3            4        Rancagua      Chile           Referido\n",
      "4            5         Durán      Ecuador            YouTube\n",
      "5            6        Medellín   Colombia  WhatsApp Business\n",
      "6            7        Santiago      Chile            Eventos\n",
      "7            8           Quito    Ecuador      Telemarketing\n",
      "8            9         Iquitos       Peru            Eventos\n",
      "9           10       La Serena      Chile            YouTube\n",
      "10          11        Santa Fe  Argentina            Eventos\n",
      "11          12    Valparaíso        Chile           Referido\n",
      "12          13           Salta  Argentina        Influencers\n",
      "13          14         Rosario  Argentina            Eventos\n",
      "14          15           Cusco       Peru  WhatsApp Business\n",
      "15          16        Valencia  Venezuela           Referido\n",
      "16          17        La Plata  Argentina           TV/Radio\n",
      "17          18          Cuenca    Ecuador               None\n",
      "18          19   Santo Domingo    Ecuador     Redes Sociales\n",
      "19          20        Santa Fe  Argentina           Referido \n",
      " \n",
      "\n"
     ]
    },
    {
     "data": {
      "text/plain": [
       "<function print(*args, sep=' ', end='\\n', file=None, flush=False)>"
      ]
     },
     "execution_count": 22,
     "metadata": {},
     "output_type": "execute_result"
    }
   ],
   "source": [
    "print(\"\\n🗂️ DATOS DE CLIENTES\\n\")\n",
    "\n",
    "# 🧭 Muestra la cabecera y los primeros 5 datos del DataFrame\n",
    "print(\"🔹 Cabecera y primeros 5 Datos de clientes:\\n\")\n",
    "print(clientes_df.head(5), \"\\n\")\n",
    "\n",
    "# 📊 Muestra un resumen estadístico del DataFrame\n",
    "print(\"🔹 Resumen estadístico de productos:\\n\")\n",
    "print(clientes_df.describe(include='all'), \"\\n\")\n",
    "\n",
    "# ℹ️ Muestra información general del DataFrame\n",
    "print(\"🔹 Información del DataFrame productos:\\n\")\n",
    "clientes_df.info()\n",
    "print(\"\\n\")\n",
    "print(f\" Primeros 20 Datos de clientes:\", clientes_df.head(20),'\\n \\n')\n",
    "print "
   ]
  },
  {
   "cell_type": "markdown",
   "id": "14443eb2",
   "metadata": {},
   "source": []
  }
 ],
 "metadata": {
  "kernelspec": {
   "display_name": "base",
   "language": "python",
   "name": "python3"
  },
  "language_info": {
   "codemirror_mode": {
    "name": "ipython",
    "version": 3
   },
   "file_extension": ".py",
   "mimetype": "text/x-python",
   "name": "python",
   "nbconvert_exporter": "python",
   "pygments_lexer": "ipython3",
   "version": "3.13.5"
  }
 },
 "nbformat": 4,
 "nbformat_minor": 5
}
