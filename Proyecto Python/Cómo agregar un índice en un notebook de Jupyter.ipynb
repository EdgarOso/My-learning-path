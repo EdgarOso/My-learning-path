{
 "cells": [
  {
   "cell_type": "markdown",
   "id": "a6d586b3",
   "metadata": {},
   "source": [
    "# Cómo agregar un índice (tabla de contenidos) en un notebook de Jupyter\n",
    "\n",
    "En este tutorial aprenderás diferentes formas de agregar un índice o tabla de contenidos a tus notebooks de Jupyter, tanto de manera automática como manual."
   ]
  },
  {
   "cell_type": "markdown",
   "id": "b47f077f",
   "metadata": {},
   "source": [
    "## 1. Instalar y activar extensión de Tabla de Contenidos\n",
    "\n",
    "Para tener un índice automático, puedes instalar una extensión de tabla de contenidos. El proceso depende de si usas JupyterLab o el Jupyter Notebook clásico.\n",
    "\n",
    "**Para JupyterLab:**\n",
    "\n",
    "1. Abre la terminal y ejecuta:\n",
    "   ```\n",
    "   pip install jupyterlab\n",
    "   jupyter labextension install @jupyterlab/toc\n",
    "   ```\n",
    "2. Reinicia JupyterLab. Ahora verás una barra lateral llamada \"Table of Contents\" o \"Tabla de Contenidos\".\n",
    "\n",
    "**Para Jupyter Notebook clásico:**\n",
    "\n",
    "1. Instala la extensión toc2 con:\n",
    "   ```\n",
    "   pip install jupyter_contrib_nbextensions\n",
    "   jupyter contrib nbextension install --user\n",
    "   ```\n",
    "2. Activa la extensión toc2:\n",
    "   ```\n",
    "   jupyter nbextension enable toc2/main\n",
    "   ```\n",
    "3. Reinicia Jupyter Notebook. Aparecerá un panel de índice a la izquierda o arriba del notebook.\n",
    "\n",
    "> **Nota:** Es posible que necesites permisos de administrador o usar `--user` según tu instalación."
   ]
  }
 ],
 "metadata": {
  "language_info": {
   "name": "python"
  }
 },
 "nbformat": 4,
 "nbformat_minor": 5
}
